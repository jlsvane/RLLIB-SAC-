{
 "cells": [
  {
   "cell_type": "code",
   "execution_count": 1,
   "id": "41cdf8cc",
   "metadata": {},
   "outputs": [],
   "source": [
    "from ray import tune\n",
    "#import ray.rllib.agents.ppo as ppo\n",
    "import ray.rllib.agents.sac as sac\n",
    "from ray.tune.logger import pretty_print\n",
    "from ray.rllib.models import ModelCatalog\n",
    "from ray.tune.schedulers import AsyncHyperBandScheduler \n",
    "import gym"
   ]
  },
  {
   "cell_type": "code",
   "execution_count": 2,
   "id": "5f8ae920",
   "metadata": {},
   "outputs": [],
   "source": [
    "config = sac.DEFAULT_CONFIG.copy()\n",
    "config[\"num_gpus\"] = 1\n",
    "config[\"log_level\"] = \"INFO\"\n",
    "config[\"framework\"] = \"tf2\"\n",
    "config[\"eager_tracing\"] = True\n",
    "config[\"replay_buffer_config\"][\"capacity\"] = int(1e4)\n",
    "config[\"optimization\"][\"actor_learning_rate\"] = tune.uniform(1e-4,4e-4)\n",
    "config[\"optimization\"][\"critic_learning_rate\"] = tune.uniform(1e-4,4e-4)\n",
    "config[\"optimization\"][\"entropy_learning_rate\"] = tune.uniform(1e-4,4e-4)\n",
    "#config[\"vf_loss_coeff\"] = tune.uniform(0.25,1.0)\n",
    "config[\"env\"] = \"SpaceInvaders-v4\""
   ]
  },
  {
   "cell_type": "code",
   "execution_count": 3,
   "id": "4de1eaca",
   "metadata": {},
   "outputs": [],
   "source": [
    "asha_scheduler = AsyncHyperBandScheduler(\n",
    "    time_attr='training_iteration',\n",
    "    metric='episode_reward_mean',\n",
    "    mode='max',\n",
    "    max_t=100,\n",
    "    grace_period=10,\n",
    "    reduction_factor=3,\n",
    "    brackets=1)"
   ]
  },
  {
   "cell_type": "code",
   "execution_count": null,
   "id": "a88c2e29",
   "metadata": {},
   "outputs": [],
   "source": [
    "analysis = tune.run(\n",
    "    \"SAC\", \n",
    "    name=\"atari_sac_test_1\",\n",
    "    config=config,\n",
    "    scheduler=asha_scheduler,\n",
    "    # max_concurrent_trials=4,\n",
    "    num_samples=5,\n",
    "    local_dir=\"atari_test_sac_results\",\n",
    "    #checkpoint_freq=10,\n",
    "    checkpoint_at_end=True,\n",
    "    max_failures=5,\n",
    "    # reuse_actors=True, \n",
    "    resume=\"AUTO\",\n",
    "    stop={\"episode_reward_mean\": 200}\n",
    "    )"
   ]
  },
  {
   "cell_type": "code",
   "execution_count": 5,
   "id": "c7cc0075",
   "metadata": {},
   "outputs": [],
   "source": [
    "checkpoints = analysis.get_trial_checkpoints_paths(\n",
    "    trial=analysis.get_best_trial(\"episode_reward_mean\",\"max\"))"
   ]
  },
  {
   "cell_type": "code",
   "execution_count": 6,
   "id": "fa97261d",
   "metadata": {},
   "outputs": [
    {
     "name": "stdout",
     "output_type": "stream",
     "text": [
      "/home/lupus/atari_testing/atari_test_sac_results/atari_sac_test_1/SAC_SpaceInvaders-v4_7be6c_00004_4_actor_learning_rate=0.0003,critic_learning_rate=0.0004,entropy_learning_rate=0.0004_2022-08-02_14-25-10/checkpoint_000005/checkpoint-5\n"
     ]
    }
   ],
   "source": [
    "print(checkpoints[0][0])"
   ]
  },
  {
   "cell_type": "code",
   "execution_count": 7,
   "id": "928adae4",
   "metadata": {},
   "outputs": [],
   "source": [
    "best_config = analysis.get_best_config(metric=\"episode_reward_mean\", mode=\"max\")"
   ]
  },
  {
   "cell_type": "code",
   "execution_count": null,
   "id": "244d8c9c",
   "metadata": {},
   "outputs": [],
   "source": [
    "agent = sac.SACTrainer(env=\"SpaceInvaders-v4\", config=best_config)"
   ]
  },
  {
   "cell_type": "code",
   "execution_count": null,
   "id": "747b85f4",
   "metadata": {},
   "outputs": [],
   "source": [
    "agent.restore(checkpoints[0][0])"
   ]
  },
  {
   "cell_type": "code",
   "execution_count": 10,
   "id": "6f8ab0b3",
   "metadata": {},
   "outputs": [],
   "source": [
    "policy = agent.get_policy()"
   ]
  },
  {
   "cell_type": "code",
   "execution_count": 14,
   "id": "ee2eac07",
   "metadata": {},
   "outputs": [],
   "source": [
    "model = policy.model.action_model.base_model"
   ]
  },
  {
   "cell_type": "code",
   "execution_count": 15,
   "id": "edf4ec00",
   "metadata": {},
   "outputs": [
    {
     "name": "stdout",
     "output_type": "stream",
     "text": [
      "Model: \"model\"\n",
      "__________________________________________________________________________________________________\n",
      " Layer (type)                   Output Shape         Param #     Connected to                     \n",
      "==================================================================================================\n",
      " observations (InputLayer)      [(None, 84, 84, 4)]  0           []                               \n",
      "                                                                                                  \n",
      " conv1 (Conv2D)                 (None, 21, 21, 16)   4112        ['observations[0][0]']           \n",
      "                                                                                                  \n",
      " conv2 (Conv2D)                 (None, 11, 11, 32)   8224        ['conv1[0][0]']                  \n",
      "                                                                                                  \n",
      " conv3 (Conv2D)                 (None, 1, 1, 256)    991488      ['conv2[0][0]']                  \n",
      "                                                                                                  \n",
      " lambda (Lambda)                (None, 256)          0           ['conv3[0][0]']                  \n",
      "                                                                                                  \n",
      " conv_out (Conv2D)              (None, 1, 1, 6)      1542        ['conv3[0][0]']                  \n",
      "                                                                                                  \n",
      " value_out (Dense)              (None, 1)            257         ['lambda[0][0]']                 \n",
      "                                                                                                  \n",
      "==================================================================================================\n",
      "Total params: 1,005,623\n",
      "Trainable params: 1,005,623\n",
      "Non-trainable params: 0\n",
      "__________________________________________________________________________________________________\n"
     ]
    }
   ],
   "source": [
    "model.summary()"
   ]
  },
  {
   "cell_type": "code",
   "execution_count": 16,
   "id": "1ab3e76f",
   "metadata": {},
   "outputs": [],
   "source": [
    "import tensorflow as tf"
   ]
  },
  {
   "cell_type": "code",
   "execution_count": 17,
   "id": "43c98f34",
   "metadata": {},
   "outputs": [
    {
     "name": "stdout",
     "output_type": "stream",
     "text": [
      "You must install pydot (`pip install pydot`) and install graphviz (see instructions at https://graphviz.gitlab.io/download/) for plot_model/model_to_dot to work.\n"
     ]
    }
   ],
   "source": [
    "tf.keras.utils.plot_model(model, to_file=\"my_model.png\", show_shapes=True)"
   ]
  },
  {
   "cell_type": "code",
   "execution_count": null,
   "id": "849208d0",
   "metadata": {},
   "outputs": [],
   "source": []
  }
 ],
 "metadata": {
  "kernelspec": {
   "display_name": "Python 3 (ipykernel)",
   "language": "python",
   "name": "python3"
  },
  "language_info": {
   "codemirror_mode": {
    "name": "ipython",
    "version": 3
   },
   "file_extension": ".py",
   "mimetype": "text/x-python",
   "name": "python",
   "nbconvert_exporter": "python",
   "pygments_lexer": "ipython3",
   "version": "3.10.4"
  }
 },
 "nbformat": 4,
 "nbformat_minor": 5
}
